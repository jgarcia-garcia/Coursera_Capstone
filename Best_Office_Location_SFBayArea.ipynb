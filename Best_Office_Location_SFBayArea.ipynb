{
    "cells": [
        {
            "cell_type": "markdown",
            "metadata": {
                "collapsed": true
            },
            "source": "# Introduction - Business Problem\n\nAfter finishing our Computer Science studies at Berkeley, we had a great idea and developed a prototype of a pair of augmented reality glasses with full 5G connectivity, bluetooth and a GPS chipset.\nWe avoided to include any camera on it (as Google Glasses) and focusing on social media streaming (as the first version of Google ones) or focusing in enterprises (like the latest one).\nThe reason is that we have identified geolocation as our niche market and we want to focus on it.\n\nIn the process of creating the prototype, we did some proof of concepts with different APIs and we observed that there are lot of functionalities we can offer to the users. \nSome examples for which we implemented proof of concepts:\n\n* Strava integration - Strava is the most used APP by runners around the world and after some exploratory testing with the Strava API, we realized our glasses are able to:\n    + show to the user very useful data while he or she is running, like: velocity, minutes per mile, distance, heart rate, etc...\n    + show them routes previously defined in their user profile or the most popular routes around them\n    + show the user \"kudos\" (cheers) given by their friends in real time\n\n\n* Google Maps integration - Our glasses are able to integrate with the Google Maps API and we can implement very interesting features:\n    + navigate through maps while driving without needing to take the eyes off the road\n    + showing interesting/historical points in a city (very useful for tourists)\n    + showing interesting restaurants/venues around them when required\n    \n* ESPN Sports live stats integration - Our glasses are able to show live sports stats/scores through the ESPN API\n    + show live scores for matches of the major leagues in the USA (NFL, NBA, NHL and MLB)\n    + show live stats when attending to any event like a Lakers or GSW game\n    + show time differences between different cars in a Nascar race\n    \n+ Disney Parks - As ESPN is part of the Disney emporium, they were impressed by our glasses and ask us to implement as well:\n    + navigation through Disney parks, starting with Magic Kingdom in Orland as a proof of concept\n    + real time stats on waiting times for the park attractions, so the users can optimize their time in the park\n    \nSo, after creating our prototype, we had several appointments with some of the biggest tech companies (including these 3 ones, plus Apple, Microsoft, etc...) in order to show them what our glasses are capable of.\nAlmost all of them were very interested and after a funding round, some of them decided to invest in our project and create a partnership with us in order to develop a final prototype and implement lots of features in them.\n    \n\nWe have launched a brand new start-up company named *Aviato GeoGlasses Inc* and collected 20 millions from our 4 main investors (Apple, Strava, Google, Disney-ESPN) in exchange of 5% of the shares of the company for each one of them.\n\n"
        },
        {
            "cell_type": "markdown",
            "metadata": {},
            "source": "# Data adquisition\n\nhttps://en.wikipedia.org/wiki/List_of_cities_and_towns_in_the_San_Francisco_Bay_Area"
        }
    ],
    "metadata": {
        "kernelspec": {
            "display_name": "Python 3.7",
            "language": "python",
            "name": "python3"
        },
        "language_info": {
            "codemirror_mode": {
                "name": "ipython",
                "version": 3
            },
            "file_extension": ".py",
            "mimetype": "text/x-python",
            "name": "python",
            "nbconvert_exporter": "python",
            "pygments_lexer": "ipython3",
            "version": "3.7.10"
        }
    },
    "nbformat": 4,
    "nbformat_minor": 1
}